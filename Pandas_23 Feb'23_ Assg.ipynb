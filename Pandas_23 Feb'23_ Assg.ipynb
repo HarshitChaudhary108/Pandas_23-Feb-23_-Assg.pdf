{
 "cells": [
  {
   "cell_type": "markdown",
   "id": "c543b2ea",
   "metadata": {},
   "source": [
    "## Q1. Create a Pandas Series that contains the following data: 4, 8, 15, 16, 23, and 42. Then, print the series.\n",
    "### Answer \n"
   ]
  },
  {
   "cell_type": "code",
   "execution_count": 18,
   "id": "6d5485f7",
   "metadata": {},
   "outputs": [
    {
     "name": "stdout",
     "output_type": "stream",
     "text": [
      "0     4\n",
      "1     8\n",
      "2    12\n",
      "3    16\n",
      "4    23\n",
      "5    42\n",
      "dtype: int64\n"
     ]
    },
    {
     "data": {
      "text/plain": [
       "pandas.core.series.Series"
      ]
     },
     "execution_count": 18,
     "metadata": {},
     "output_type": "execute_result"
    }
   ],
   "source": [
    "import pandas as pd\n",
    "\n",
    "try :\n",
    "    data = [4,8,12,16,23,42]\n",
    "    ser = pd.Series(data)\n",
    "    print(ser)\n",
    "except Exception as e :\n",
    "    print(e)\n",
    "    \n",
    "type(ser)"
   ]
  },
  {
   "cell_type": "markdown",
   "id": "db7ea50e",
   "metadata": {},
   "source": [
    "#"
   ]
  },
  {
   "cell_type": "markdown",
   "id": "3cfcdfc9",
   "metadata": {},
   "source": [
    "## Q2. Create a variable of list type containing 10 elements in it, and apply pandas.Series function on the variable print it.\n",
    "### Answer "
   ]
  },
  {
   "cell_type": "code",
   "execution_count": 19,
   "id": "9b249a58",
   "metadata": {},
   "outputs": [
    {
     "name": "stdout",
     "output_type": "stream",
     "text": [
      "0    Hare Krishna\n",
      "1               2\n",
      "2               3\n",
      "3               4\n",
      "4               5\n",
      "5             0.3\n",
      "6               @\n",
      "7            [23]\n",
      "8               6\n",
      "9               7\n",
      "dtype: object\n"
     ]
    }
   ],
   "source": [
    "N = [\"Hare Krishna\", 2,3,4,5,0.3,\"@\",[23],6,7]\n",
    "\n",
    "ser1 = pd.Series(N)\n",
    "print(ser1)"
   ]
  },
  {
   "cell_type": "markdown",
   "id": "15124f2c",
   "metadata": {},
   "source": [
    "#"
   ]
  },
  {
   "cell_type": "markdown",
   "id": "32d157ba",
   "metadata": {},
   "source": [
    "## Q3. Create a Pandas DataFrame that contains the following data:\n",
    "\n",
    "Name : \n",
    "Alice\n",
    "Bob\n",
    "Claire\n",
    "\n",
    "Age : \n",
    "25\n",
    "30\n",
    "27\n",
    "\n",
    "Gender : \n",
    "Female\n",
    "Male\n",
    "Female"
   ]
  },
  {
   "cell_type": "code",
   "execution_count": 21,
   "id": "7b5e17c3",
   "metadata": {},
   "outputs": [
    {
     "data": {
      "text/html": [
       "<div>\n",
       "<style scoped>\n",
       "    .dataframe tbody tr th:only-of-type {\n",
       "        vertical-align: middle;\n",
       "    }\n",
       "\n",
       "    .dataframe tbody tr th {\n",
       "        vertical-align: top;\n",
       "    }\n",
       "\n",
       "    .dataframe thead th {\n",
       "        text-align: right;\n",
       "    }\n",
       "</style>\n",
       "<table border=\"1\" class=\"dataframe\">\n",
       "  <thead>\n",
       "    <tr style=\"text-align: right;\">\n",
       "      <th></th>\n",
       "      <th>Name</th>\n",
       "      <th>Age</th>\n",
       "      <th>Gender</th>\n",
       "    </tr>\n",
       "  </thead>\n",
       "  <tbody>\n",
       "    <tr>\n",
       "      <th>0</th>\n",
       "      <td>Alice</td>\n",
       "      <td>25</td>\n",
       "      <td>Female</td>\n",
       "    </tr>\n",
       "    <tr>\n",
       "      <th>1</th>\n",
       "      <td>Bob</td>\n",
       "      <td>30</td>\n",
       "      <td>Male</td>\n",
       "    </tr>\n",
       "    <tr>\n",
       "      <th>2</th>\n",
       "      <td>Claire</td>\n",
       "      <td>27</td>\n",
       "      <td>Female</td>\n",
       "    </tr>\n",
       "  </tbody>\n",
       "</table>\n",
       "</div>"
      ],
      "text/plain": [
       "     Name  Age  Gender\n",
       "0   Alice   25  Female\n",
       "1     Bob   30    Male\n",
       "2  Claire   27  Female"
      ]
     },
     "execution_count": 21,
     "metadata": {},
     "output_type": "execute_result"
    }
   ],
   "source": [
    "data1 = {\"Name\":[\"Alice\", \"Bob\", \"Claire\"],\n",
    "       \"Age\":[25,30,27],\n",
    "       \"Gender\":[\"Female\", \"Male\", \"Female\"]\n",
    "       }\n",
    "\n",
    "df = pd.DataFrame(data1)\n",
    "df"
   ]
  },
  {
   "cell_type": "markdown",
   "id": "4db439ab",
   "metadata": {},
   "source": [
    "#"
   ]
  },
  {
   "cell_type": "markdown",
   "id": "1bac5931",
   "metadata": {},
   "source": [
    "## Q4. What is ‘DataFrame’ in pandas and how is it different from pandas.series? Explain with an example.\n",
    "### Answer "
   ]
  },
  {
   "cell_type": "markdown",
   "id": "0d4ef267",
   "metadata": {},
   "source": [
    "In pandas, dataframe can have more than one columns while on the other side series can have only 1 column. It means that dataframe can store more complex data then \"Series\".\n",
    "\n",
    "Another differnce is that dataframe can have different data types for each and every column while on the other side series can store only one type of data for the whole array. This means that Dataframe can store mixed type of datas while series can only one type of data at a time."
   ]
  },
  {
   "cell_type": "markdown",
   "id": "f3cc76a8",
   "metadata": {},
   "source": [
    "#"
   ]
  },
  {
   "cell_type": "markdown",
   "id": "46790ec6",
   "metadata": {},
   "source": [
    "## Q5. What are some common functions you can use to manipulate data in a Pandas DataFrame? Can you give an example of when you might use one of these functions?\n",
    "### Answer "
   ]
  },
  {
   "cell_type": "markdown",
   "id": "741297ab",
   "metadata": {},
   "source": [
    "1.Head() :\n",
    "\n",
    "This function gives us the top 5 rows as the output. \n",
    "If we have a very big size data but we only have to focus only on the top 5 or 10 rows, then in this situation Head() function in pandas helps us a lot.\n",
    "\n",
    "2.Tail() :\n",
    "\n",
    "This function in pandas gives us the last 5 rows of our dataset as the output.\n",
    "\n",
    "3.describe() :\n",
    "\n",
    "If we want to have a rough idea or analysis of our dataset then in that situation, we use describe function in pandas.\n",
    "If we have a data set of mixed data types then in that situation it works only on those columns with \"int\" or \"float\" data types.\n",
    "\n",
    "4.colunms():\n",
    "\n",
    "In any situation, if we have a very big size data with a lot of rows and columns and we want to check the column names, then the columns() function in pandas helps us a lot.\n",
    "\n",
    "5.Nunique() :\n",
    "\n",
    "The Nunique() Function in pandas shows us the total number of unique values a column has."
   ]
  },
  {
   "cell_type": "markdown",
   "id": "8cc40ec3",
   "metadata": {},
   "source": [
    "#"
   ]
  },
  {
   "cell_type": "markdown",
   "id": "22ff8d36",
   "metadata": {},
   "source": [
    "## Q6. Which of the following is mutable in nature Series, DataFrame, Panel?\n",
    "### Answer "
   ]
  },
  {
   "cell_type": "markdown",
   "id": "55c5b999",
   "metadata": {},
   "source": [
    "All the data structures in pandas are mutable in nature but except series all others are size mutable."
   ]
  },
  {
   "cell_type": "markdown",
   "id": "e2d41aff",
   "metadata": {},
   "source": [
    "#"
   ]
  },
  {
   "cell_type": "markdown",
   "id": "873ed7e8",
   "metadata": {},
   "source": [
    "## Q7. Create a DataFrame using multiple Series. Explain with an example.\n",
    "### Answer"
   ]
  },
  {
   "cell_type": "code",
   "execution_count": 31,
   "id": "5eecaefd",
   "metadata": {},
   "outputs": [
    {
     "data": {
      "text/html": [
       "<div>\n",
       "<style scoped>\n",
       "    .dataframe tbody tr th:only-of-type {\n",
       "        vertical-align: middle;\n",
       "    }\n",
       "\n",
       "    .dataframe tbody tr th {\n",
       "        vertical-align: top;\n",
       "    }\n",
       "\n",
       "    .dataframe thead th {\n",
       "        text-align: right;\n",
       "    }\n",
       "</style>\n",
       "<table border=\"1\" class=\"dataframe\">\n",
       "  <thead>\n",
       "    <tr style=\"text-align: right;\">\n",
       "      <th></th>\n",
       "      <th>Student_Name</th>\n",
       "      <th>CS_Marks</th>\n",
       "    </tr>\n",
       "  </thead>\n",
       "  <tbody>\n",
       "    <tr>\n",
       "      <th>0</th>\n",
       "      <td>Harshit</td>\n",
       "      <td>23</td>\n",
       "    </tr>\n",
       "    <tr>\n",
       "      <th>1</th>\n",
       "      <td>Madhav</td>\n",
       "      <td>34</td>\n",
       "    </tr>\n",
       "    <tr>\n",
       "      <th>2</th>\n",
       "      <td>Gopal</td>\n",
       "      <td>45</td>\n",
       "    </tr>\n",
       "    <tr>\n",
       "      <th>3</th>\n",
       "      <td>Nimai</td>\n",
       "      <td>56</td>\n",
       "    </tr>\n",
       "    <tr>\n",
       "      <th>4</th>\n",
       "      <td>Nitai</td>\n",
       "      <td>67</td>\n",
       "    </tr>\n",
       "  </tbody>\n",
       "</table>\n",
       "</div>"
      ],
      "text/plain": [
       "  Student_Name  CS_Marks\n",
       "0      Harshit        23\n",
       "1       Madhav        34\n",
       "2        Gopal        45\n",
       "3        Nimai        56\n",
       "4        Nitai        67"
      ]
     },
     "execution_count": 31,
     "metadata": {},
     "output_type": "execute_result"
    }
   ],
   "source": [
    "data2 = {\"Student_Name\" :[\"Harshit\", \"Madhav\", \"Gopal\", \"Nimai\", \"Nitai\"],\n",
    "         \"CS_Marks\" :[23,34,45,56,67]}\n",
    "\n",
    "df3 = pd.DataFrame(data2)\n",
    "df3\n",
    "\n",
    "# We all know that a series is list type data array, Here we can see how i used 2 different kind of series to create a dataframe."
   ]
  }
 ],
 "metadata": {
  "kernelspec": {
   "display_name": "Python 3 (ipykernel)",
   "language": "python",
   "name": "python3"
  },
  "language_info": {
   "codemirror_mode": {
    "name": "ipython",
    "version": 3
   },
   "file_extension": ".py",
   "mimetype": "text/x-python",
   "name": "python",
   "nbconvert_exporter": "python",
   "pygments_lexer": "ipython3",
   "version": "3.11.5"
  }
 },
 "nbformat": 4,
 "nbformat_minor": 5
}
